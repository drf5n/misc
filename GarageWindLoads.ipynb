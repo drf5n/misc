{
 "cells": [
  {
   "cell_type": "markdown",
   "metadata": {},
   "source": [
    "  ## Beam Calculations for Garage Door King Studs"
   ]
  },
  {
   "cell_type": "code",
   "execution_count": 12,
   "metadata": {
    "collapsed": false
   },
   "outputs": [
    {
     "name": "stdout",
     "output_type": "stream",
     "text": [
      "Populating the interactive namespace from numpy and matplotlib\n"
     ]
    }
   ],
   "source": [
    "%pylab inline"
   ]
  },
  {
   "cell_type": "code",
   "execution_count": 13,
   "metadata": {
    "collapsed": true
   },
   "outputs": [],
   "source": [
    "from ipywidgets.widgets import interact\n",
    "import ipywidgets\n",
    "#del ipywidgets"
   ]
  },
  {
   "cell_type": "code",
   "execution_count": 26,
   "metadata": {
    "collapsed": true
   },
   "outputs": [],
   "source": [
    "def moment(p,L,x):\n",
    "    \"\"\"Calculate the moment of a uniformly loaded beam of \n",
    "    length L (in) at point x (in), with a load of p (lbf/in).\n",
    "    \n",
    "    Returns the moment in in*lbf\n",
    "    \"\"\"\n",
    "    return 1/2.*p*(L-x)*x"
   ]
  },
  {
   "cell_type": "code",
   "execution_count": 25,
   "metadata": {
    "collapsed": false
   },
   "outputs": [
    {
     "name": "stdout",
     "output_type": "stream",
     "text": [
      "Beam characteristics:\n",
      "           A= 5.25 in^2\n",
      "           I =5.359375 in^4\n",
      "           c =1.75 in\n"
     ]
    }
   ],
   "source": [
    "# Beam Geometry\n",
    "def Irect(b,h):\n",
    "    \"\"\"Compute the moment of inertia of a rectangle around its neutral axis.\n",
    "    b: width of beam in inches\n",
    "    h: height of beam in inches\n",
    "    \n",
    "    Returns moment of inertia, I (in^4)\"\"\"\n",
    "    return(1/12.0*b*h**3)\n",
    "\n",
    "i = Irect(1.5,3.5)  #in^4\n",
    "a = 3.5*1.5  #in^2\n",
    "c=3.5/2\n",
    "\n",
    "print (\n",
    "\"\"\"Beam characteristics:\n",
    "           A= {a} in^2\n",
    "           I ={i} in^4\n",
    "           c ={c} in\"\"\".format(i=i,c=c,a=a))\n"
   ]
  },
  {
   "cell_type": "code",
   "execution_count": 23,
   "metadata": {
    "collapsed": false
   },
   "outputs": [],
   "source": [
    "def plot_moment(width,lbpsf,L_feet,xi,tbf,I,c):\n",
    "    lbf_ft=width/2.0*lbpsf\n",
    "    x=np.arange(0,L_feet*12)\n",
    "    y=moment(lbf_ft/12.0,L_feet*12,x)\n",
    "    plt.plot(x,y)\n",
    "    plt.axvline(xi*12.)\n",
    "    plt.xlabel('inches')\n",
    "    plt.ylabel('in-lbf')\n",
    "    moi = moment(lbf_ft/12.0,L_feet*12.0,xi*12)\n",
    "    stress= moi*c/(tbf*I)\n",
    "    print (\"Moment at {x}\\' = {m} in-lbf = {mp} ft-lbf\".format(x=xi,m=moi,mp=moi/12))\n",
    "    print (\"stress at skin = {s} psi \".format(s=stress))\n",
    "\n"
   ]
  },
  {
   "cell_type": "markdown",
   "metadata": {},
   "source": [
    "# Controls\n",
    "\n",
    "* width is Width of opening in feet\n",
    "* lbpsf is punds per square foot wind load\n",
    "* L_feet is the height of the wall\n",
    "* xi is the point of interest (where the joint is)\n",
    "* tbf is the number of 2x4s\n",
    "\n",
    "# Outputs\n",
    "\n",
    "* moment is the torque to be resisted at the joint\n",
    "* stress is the tensile stress at the inner surface of the king studs"
   ]
  },
  {
   "cell_type": "code",
   "execution_count": 35,
   "metadata": {
    "collapsed": false
   },
   "outputs": [
    {
     "name": "stdout",
     "output_type": "stream",
     "text": [
      "Moment at 8.0' = 12672.0 in-lbf = 1056.0 ft-lbf\n",
      "stress at skin = 6620.47346939 psi \n"
     ]
    },
    {
     "data": {
      "image/png": "[encoded data removed]",
      "text/plain": [
       "<matplotlib.figure.Figure at 0x1092d8e50>"
      ]
     },
     "metadata": {},
     "output_type": "display_data"
    }
   ],
   "source": [
    "interact(plot_moment,\n",
    "        lbf_ft=ipywidgets.FloatSlider(min=0,max=300,step=5.0,value=33),\n",
    "        lbpsf=ipywidgets.FloatSlider(min=0,max=40,step=1., value=33),\n",
    "        width=ipywidgets.FloatSlider(min=0,max=16,step=1.,value=16),\n",
    "        L_feet=ipywidgets.FloatSlider(min=0,max=12,step=0.25,value=9.),\n",
    "        xi=ipywidgets.FloatSlider(min=0,max=12,step=1/12.,value=8.),\n",
    "        tbf=ipywidgets.FloatSlider(min=1,max=10,step=1,value=1),\n",
    "        c=(0,6,0.1),\n",
    "        I=ipywidgets.RadioButtons(options={'2x4':Irect(1.5,3.5),'2x6':Irect(1.5,5.5),'Tee':43}))  # I2x4 =    "
   ]
  },
  {
   "cell_type": "code",
   "execution_count": 7,
   "metadata": {
    "collapsed": false
   },
   "outputs": [
    {
     "name": "stdout",
     "output_type": "stream",
     "text": [
      "Neutral Axis at -0.683333333333\n",
      "Moment of Inertia of T shape = 41.796875 with c=(2.43333333333,-0.933333333333)\n"
     ]
    }
   ],
   "source": [
    "# T of 12\" x 1/2\" over 2x4:\n",
    "na=(12*.5*.25-3.5*1.5*1.75)/(0.5*12+3.5*1.5)\n",
    "                         \n",
    "print \"Neutral Axis at {}\".format(na)\n",
    "\n",
    "def Irect(b,h):\n",
    "    return(1/12.0*b*h**3)\n",
    "\n",
    "Itee = Irect(12,.5)+12*.5*(.25 - na )**2 + Irect(1.5,3.5)+1.5*3.5*(1.75-na)**2\n",
    "print (\"Moment of Inertia of T shape = {i} with c=({c1},{c2})\".format(\n",
    "        c1=1.75-na,c2=-(0.25-na),i=Itee))\n"
   ]
  },
  {
   "cell_type": "code",
   "execution_count": 40,
   "metadata": {
    "collapsed": false
   },
   "outputs": [
    {
     "name": "stdout",
     "output_type": "stream",
     "text": [
      "Populating the interactive namespace from numpy and matplotlib\n"
     ]
    }
   ],
   "source": [
    "%pylab inline  \n",
    "# gives np plt\n",
    "#?%pylab"
   ]
  },
  {
   "cell_type": "code",
   "execution_count": 65,
   "metadata": {
    "collapsed": false
   },
   "outputs": [
    {
     "data": {
      "text/plain": [
       "56.08333333333333"
      ]
     },
     "metadata": {},
     "output_type": "display_data"
    },
    {
     "data": {
      "image/png": "[encoded data removed]",
      "text/plain": [
       "<matplotlib.figure.Figure at 0x109792410>"
      ]
     },
     "metadata": {},
     "output_type": "display_data"
    }
   ],
   "source": [
    "import ipywidgets\n",
    "import matplotlib.patches as patches\n",
    "\n",
    "#?ipywidgets.RadioButtons\n",
    "#?ipywidgets.widget_selection._Selection\n",
    "\n",
    "def f(a, b,c):\n",
    "    plt.plot([-a,a],[-b+c,b+c],'   ')\n",
    "    gca().add_patch(Rectangle((-a/2,-b/2+c),a,b))\n",
    "    gca().set_aspect('equal')\n",
    "    gca().axhline(0, linestyle='--', color='k') # horizontal lines\n",
    "    return 1.0/12*a*b**3+a*b*c**2\n",
    "\n",
    "\n",
    "w=ipywidgets.interactive(f, a=(0,10.0), b=(0,10.0),c=(-10.0,10))\n",
    "display(w)\n",
    "\n"
   ]
  },
  {
   "cell_type": "code",
   "execution_count": 63,
   "metadata": {
    "collapsed": false
   },
   "outputs": [
    {
     "name": "stdout",
     "output_type": "stream",
     "text": [
      "Moment of inertia for {'a': 1.5, 'c': 1.3, 'b': 3.5} is 14.231875\n"
     ]
    }
   ],
   "source": [
    "print \"Moment of inertia for {k} is {i} units^4\".format(k=w.kwargs,i=w.result)\n"
   ]
  }
 ],
 "metadata": {
  "kernelspec": {
   "display_name": "Python 2",
   "language": "python",
   "name": "python2"
  },
  "language_info": {
   "codemirror_mode": {
    "name": "ipython",
    "version": 2
   },
   "file_extension": ".py",
   "mimetype": "text/x-python",
   "name": "python",
   "nbconvert_exporter": "python",
   "pygments_lexer": "ipython2",
   "version": "2.7.10"
  }
 },
 "nbformat": 4,
 "nbformat_minor": 0
}
